{
 "cells": [
  {
   "cell_type": "code",
   "execution_count": null,
   "metadata": {
    "collapsed": true
   },
   "outputs": [],
   "source": [
    "import pandas as pd\n",
    "import numpy as np\n",
    "import nibabel as nib\n",
    "import glob\n",
    "from tensorflow.keras.utils import to_categorical\n",
    "import matplotlib.pyplot as plt\n",
    "from tifffile import imsave\n",
    "from zipfile import ZipFile\n",
    "import nibabel as nib\n",
    "import os\n",
    "import random\n",
    "#import splitfolders  # or import split_folders\n",
    "\n",
    "from sklearn.preprocessing import MinMaxScaler\n",
    "#import segmentation_models_3D as sm\n",
    "import keras\n",
    "import tensorflow as tf\n",
    "import datetime\n",
    "import tarfile\n",
    "\n",
    "import numpy as np\n",
    "import pandas as pd\n",
    "import matplotlib.pyplot as plt\n",
    "import tensorflow as tf\n",
    "from sklearn.model_selection import train_test_split\n",
    "import keras\n",
    "from keras.models import Model, load_model\n",
    "from keras.layers import Input ,BatchNormalization , Activation\n",
    "from keras.layers.convolutional import Conv2D, UpSampling2D\n",
    "from keras.layers.pooling import MaxPooling2D\n",
    "from keras.layers.merge import concatenate\n",
    "from keras.callbacks import EarlyStopping, ModelCheckpoint\n",
    "from keras import optimizers\n",
    "from sklearn.model_selection import train_test_split\n",
    "import os\n",
    "import nibabel as nib\n",
    "import cv2 as cv\n",
    "import matplotlib.pyplot as plt\n",
    "from keras import backend as K\n",
    "import glob\n",
    "import skimage.io as io\n",
    "import skimage.color as color\n",
    "import random as r\n",
    "import math"
   ]
  },
  {
   "cell_type": "markdown",
   "source": [
    "TODO: add the brats2021 dataset"
   ],
   "metadata": {
    "collapsed": false
   }
  },
  {
   "cell_type": "code",
   "execution_count": 1,
   "outputs": [],
   "source": [
    "import os\n",
    "for dirname, _, filenames in os.walk('data/brats2021/compressed'):\n",
    "    for filename in filenames:\n",
    "        print(os.path.join(dirname, filename))"
   ],
   "metadata": {
    "collapsed": false,
    "ExecuteTime": {
     "start_time": "2023-05-17T18:25:39.417117Z",
     "end_time": "2023-05-17T18:25:39.435683Z"
    }
   }
  },
  {
   "cell_type": "code",
   "execution_count": null,
   "outputs": [],
   "source": [
    "zip_file = tarfile.open(\"/kaggle/input/brats-2021-task1/BraTS2021_Training_Data.tar\")\n",
    "zip_file.extractall(\"./data/brats2021/dataset\")\n",
    "zip_file.close()"
   ],
   "metadata": {
    "collapsed": false
   }
  },
  {
   "cell_type": "code",
   "execution_count": null,
   "outputs": [],
   "source": [
    "Flair = nib.load('data/BraTS2021_00003/BraTS2021_00003_flair.nii.gz')\n",
    "Seg = nib.load('data/BraTS2021_00003/BraTS2021_00003_seg.nii.gz')\n",
    "T1 = nib.load('data/BraTS2021_00003/BraTS2021_00003_t1.nii.gz')\n",
    "T1ce = nib.load('data/BraTS2021_00003/BraTS2021_00003_t1ce.nii.gz')\n",
    "T2 = nib.load('data/BraTS2021_00003/BraTS2021_00003_t2.nii.gz')"
   ],
   "metadata": {
    "collapsed": false
   }
  },
  {
   "cell_type": "markdown",
   "source": [
    "Follow these instructions: https://www.kaggle.com/code/sidharkal/brats2021"
   ],
   "metadata": {
    "collapsed": false
   }
  },
  {
   "cell_type": "code",
   "execution_count": null,
   "outputs": [],
   "source": [],
   "metadata": {
    "collapsed": false
   }
  },
  {
   "cell_type": "code",
   "execution_count": null,
   "outputs": [],
   "source": [],
   "metadata": {
    "collapsed": false
   }
  },
  {
   "cell_type": "code",
   "execution_count": null,
   "outputs": [],
   "source": [],
   "metadata": {
    "collapsed": false
   }
  },
  {
   "cell_type": "code",
   "execution_count": null,
   "outputs": [],
   "source": [],
   "metadata": {
    "collapsed": false
   }
  }
 ],
 "metadata": {
  "kernelspec": {
   "display_name": "Python 3",
   "language": "python",
   "name": "python3"
  },
  "language_info": {
   "codemirror_mode": {
    "name": "ipython",
    "version": 2
   },
   "file_extension": ".py",
   "mimetype": "text/x-python",
   "name": "python",
   "nbconvert_exporter": "python",
   "pygments_lexer": "ipython2",
   "version": "2.7.6"
  }
 },
 "nbformat": 4,
 "nbformat_minor": 0
}
